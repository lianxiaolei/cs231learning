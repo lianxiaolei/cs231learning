{
 "cells": [
  {
   "cell_type": "markdown",
   "metadata": {},
   "source": [
    "In this assignment, you should train your own net on cifar10 classification with deep learning framework MXNet.\n",
    "With MXNet, you only need to define the nets with symbol connection, then set hyperparameters to train the network. You can also save your model and load pretrained model to finetune the network. Make sure using GPU mode. You should achieve at least 80% on the validation set."
   ]
  },
  {
   "cell_type": "code",
   "execution_count": 12,
   "metadata": {
    "collapsed": true
   },
   "outputs": [],
   "source": [
    "import sys\n",
    "import os\n",
    "import numpy as np\n",
    "import mxnet as mx\n",
    "import logging\n",
    "\n",
    "# download data if necessary，各种shell操作，牛屁\n",
    "def _download(data_dir):\n",
    "    if not os.path.isdir(data_dir):\n",
    "        os.system(\"mkdir \" + data_dir)\n",
    "    os.chdir(data_dir)\n",
    "    if (not os.path.exists('train.rec')) or \\\n",
    "       (not os.path.exists('test.rec')) :\n",
    "        os.system(\"wget http://data.dmlc.ml/mxnet/data/cifar10.zip\")\n",
    "        os.system(\"unzip -u cifar10.zip\")\n",
    "        os.system(\"mv cifar/* .; rm -rf cifar; rm cifar10.zip\")\n",
    "    os.chdir(\"..\")"
   ]
  },
  {
   "cell_type": "code",
   "execution_count": 13,
   "metadata": {
    "collapsed": true
   },
   "outputs": [],
   "source": [
    "# data\n",
    "def get_iterator(data_shape=(3, 28, 28)):\n",
    "    if '://' not in data_dir:\n",
    "        _download(data_dir)\n",
    "\n",
    "    train = mx.io.ImageRecordIter(\n",
    "        path_imgrec = os.path.join(data_dir, \"train.rec\"), # os.path.join(): 多个路径组合\n",
    "        mean_img    = os.path.join(data_dir, \"mean.bin\"),\n",
    "        data_shape  = data_shape,\n",
    "        batch_size  = batch_size,\n",
    "        rand_crop   = True,\n",
    "        rand_mirror = True)\n",
    "\n",
    "    val = mx.io.ImageRecordIter(\n",
    "        path_imgrec = os.path.join(data_dir, \"test.rec\"),\n",
    "        mean_img    = os.path.join(data_dir, \"mean.bin\"),\n",
    "        rand_crop   = False,\n",
    "        rand_mirror = False,\n",
    "        data_shape  = data_shape,\n",
    "        batch_size  = batch_size)\n",
    "\n",
    "    return (train, val)"
   ]
  },
  {
   "cell_type": "code",
   "execution_count": 14,
   "metadata": {
    "collapsed": true
   },
   "outputs": [],
   "source": [
    "def get_net(num_classes=10):\n",
    "    #####################################################################################\n",
    "    # TODO: define your net                                                             #\n",
    "    # Define symbols that using convolution and max pooling to extract better features  #\n",
    "    # from input image.                                                                 #\n",
    "    #####################################################################################\n",
    "    data = mx.symbol.Variable(name=\"data\")\n",
    "    \n",
    "    conv1_1 = mx.symbol.Convolution(data=data, kernel=(3,3), pad=(1,1), num_filter=128, name=\"conv1_1\")\n",
    "    relu1_1 = mx.symbol.Activation(data=conv1_1, act_type=\"relu\", name=\"relu1_1\")\n",
    "    pool1 = mx.symbol.Pooling(data=relu1_1, pool_type=\"max\", kernel=(2,2), stride=(2,2), name=\"pool1\")\n",
    "    \n",
    "    conv2_1 = mx.symbol.Convolution(data=relu1_1, kernel=(3,3), pad=(1,1), num_filter=128, name=\"conv2_1\")\n",
    "    relu2_1 = mx.symbol.Activation(data=conv2_1, act_type=\"relu\", name=\"relu2_1\")\n",
    "    pool2 = mx.symbol.Pooling(data=relu2_1, pool_type=\"max\", kernel=(2,2), stride=(2,2), name=\"pool2\")\n",
    "    \n",
    "    conv3_1 = mx.symbol.Convolution(data=pool2, kernel=(5,5), pad=(2,2), num_filter=256, name=\"conv3_1\")\n",
    "    relu3_1 = mx.symbol.Activation(data=conv3_1, act_type=\"relu\", name=\"relu3_1\")\n",
    "    conv3_2 = mx.symbol.Convolution(data=relu3_1, kernel=(5,5), pad=(2,2), num_filter=256, name=\"conv3_2\")\n",
    "    relu3_2 = mx.symbol.Activation(data=conv3_2, act_type=\"relu\", name=\"relu3_2\")\n",
    "    pool_3 = mx.symbol.Pooling(data=relu3_2, pool_type=\"max\", kernel=(2,2), stride=(2,2), name=\"pool_3\")\n",
    "\n",
    "    flatten = mx.symbol.Flatten(data=pool_3, name=\"flatten\")\n",
    "    fc4 = mx.symbol.FullyConnected(data=flatten, num_hidden=1024, name=\"fc4\")\n",
    "    relu4 = mx.symbol.Activation(data=fc4, act_type=\"relu\", name=\"relu4\")\n",
    "    drop4 = mx.symbol.Dropout(data=relu4, p=0.5, name=\"drop4\")\n",
    "\n",
    "    fc5 = mx.symbol.FullyConnected(data=flatten, num_hidden=1024, name=\"fc5\")\n",
    "    relu5 = mx.symbol.Activation(data=fc5, act_type=\"relu\", name=\"relu5\")\n",
    "    drop5 = mx.symbol.Dropout(data=relu5, p=0.5, name=\"drop5\")\n",
    "\n",
    "    fc6 = mx.symbol.FullyConnected(data=drop5, num_hidden=1024, name=\"fc6\")\n",
    "    softmax = mx.symbol.SoftmaxOutput(data=fc6, name=\"softmax\")\n",
    "    \n",
    "    return softmax"
   ]
  },
  {
   "cell_type": "code",
   "execution_count": 17,
   "metadata": {
    "collapsed": false
   },
   "outputs": [
    {
     "ename": "MXNetError",
     "evalue": "[16:49:33] src/io/local_filesys.cc:166: Check failed: allow_null  LocalFileSystem: fail to open \"model/net1-symbol.json\"\n\nStack trace returned 7 entries:\n[bt] (0) 0   libmxnet.so                         0x00000001161d6598 _ZN4dmlc15LogMessageFatalD2Ev + 40\n[bt] (1) 1   libmxnet.so                         0x00000001161d4299 _ZN4dmlc15LogMessageFatalD1Ev + 9\n[bt] (2) 2   libmxnet.so                         0x00000001174f2f28 _ZN4dmlc2io15LocalFileSystem4OpenERKNS0_3URIEPKcb + 648\n[bt] (3) 3   libmxnet.so                         0x00000001174ec7c4 _ZN4dmlc6Stream6CreateEPKcS2_b + 68\n[bt] (4) 4   libmxnet.so                         0x00000001170ea2f4 MXSymbolCreateFromFile + 84\n[bt] (5) 5   _ctypes.so                          0x000000010ecf7f57 ffi_call_unix64 + 79\n[bt] (6) 6   ???                                 0x00007ffee1a47bc0 0x0 + 140732684073920\n",
     "output_type": "error",
     "traceback": [
      "\u001b[0;31m---------------------------------------------------------------------------\u001b[0m",
      "\u001b[0;31mMXNetError\u001b[0m                                Traceback (most recent call last)",
      "\u001b[0;32m<ipython-input-17-58addcc86e1a>\u001b[0m in \u001b[0;36m<module>\u001b[0;34m()\u001b[0m\n\u001b[1;32m     33\u001b[0m     \u001b[0mmodel_iter\u001b[0m \u001b[0;34m=\u001b[0m \u001b[0;36m20\u001b[0m  \u001b[0;31m# which model to load\u001b[0m\u001b[0;34m\u001b[0m\u001b[0m\n\u001b[1;32m     34\u001b[0m \u001b[0;34m\u001b[0m\u001b[0m\n\u001b[0;32m---> 35\u001b[0;31m     \u001b[0m_\u001b[0m\u001b[0;34m,\u001b[0m \u001b[0marg_params\u001b[0m\u001b[0;34m,\u001b[0m\u001b[0m__\u001b[0m \u001b[0;34m=\u001b[0m \u001b[0mmx\u001b[0m\u001b[0;34m.\u001b[0m\u001b[0mmodel\u001b[0m\u001b[0;34m.\u001b[0m\u001b[0mload_checkpoint\u001b[0m\u001b[0;34m(\u001b[0m\u001b[0mmodel_prefix\u001b[0m\u001b[0;34m,\u001b[0m \u001b[0mmodel_iter\u001b[0m\u001b[0;34m)\u001b[0m\u001b[0;34m\u001b[0m\u001b[0m\n\u001b[0m\u001b[1;32m     36\u001b[0m \u001b[0;32melse\u001b[0m\u001b[0;34m:\u001b[0m\u001b[0;34m\u001b[0m\u001b[0m\n\u001b[1;32m     37\u001b[0m     \u001b[0marg_params\u001b[0m \u001b[0;34m=\u001b[0m \u001b[0mNone\u001b[0m\u001b[0;34m\u001b[0m\u001b[0m\n",
      "\u001b[0;32m/Users/imperatore/Applications/anaconda/lib/python2.7/site-packages/mxnet/model.pyc\u001b[0m in \u001b[0;36mload_checkpoint\u001b[0;34m(prefix, epoch)\u001b[0m\n\u001b[1;32m    418\u001b[0m     \u001b[0;34m-\u001b[0m \u001b[0mParameters\u001b[0m \u001b[0mwill\u001b[0m \u001b[0mbe\u001b[0m \u001b[0mloaded\u001b[0m \u001b[0;32mfrom\u001b[0m \u001b[0;34m`\u001b[0m\u001b[0;34m`\u001b[0m\u001b[0mprefix\u001b[0m\u001b[0;34m-\u001b[0m\u001b[0mepoch\u001b[0m\u001b[0;34m.\u001b[0m\u001b[0mparams\u001b[0m\u001b[0;34m`\u001b[0m\u001b[0;34m`\u001b[0m\u001b[0;34m.\u001b[0m\u001b[0;34m\u001b[0m\u001b[0m\n\u001b[1;32m    419\u001b[0m     \"\"\"\n\u001b[0;32m--> 420\u001b[0;31m     \u001b[0msymbol\u001b[0m \u001b[0;34m=\u001b[0m \u001b[0msym\u001b[0m\u001b[0;34m.\u001b[0m\u001b[0mload\u001b[0m\u001b[0;34m(\u001b[0m\u001b[0;34m'%s-symbol.json'\u001b[0m \u001b[0;34m%\u001b[0m \u001b[0mprefix\u001b[0m\u001b[0;34m)\u001b[0m\u001b[0;34m\u001b[0m\u001b[0m\n\u001b[0m\u001b[1;32m    421\u001b[0m     \u001b[0msave_dict\u001b[0m \u001b[0;34m=\u001b[0m \u001b[0mnd\u001b[0m\u001b[0;34m.\u001b[0m\u001b[0mload\u001b[0m\u001b[0;34m(\u001b[0m\u001b[0;34m'%s-%04d.params'\u001b[0m \u001b[0;34m%\u001b[0m \u001b[0;34m(\u001b[0m\u001b[0mprefix\u001b[0m\u001b[0;34m,\u001b[0m \u001b[0mepoch\u001b[0m\u001b[0;34m)\u001b[0m\u001b[0;34m)\u001b[0m\u001b[0;34m\u001b[0m\u001b[0m\n\u001b[1;32m    422\u001b[0m     \u001b[0marg_params\u001b[0m \u001b[0;34m=\u001b[0m \u001b[0;34m{\u001b[0m\u001b[0;34m}\u001b[0m\u001b[0;34m\u001b[0m\u001b[0m\n",
      "\u001b[0;32m/Users/imperatore/Applications/anaconda/lib/python2.7/site-packages/mxnet/symbol/symbol.pyc\u001b[0m in \u001b[0;36mload\u001b[0;34m(fname)\u001b[0m\n\u001b[1;32m   2492\u001b[0m         \u001b[0;32mraise\u001b[0m \u001b[0mTypeError\u001b[0m\u001b[0;34m(\u001b[0m\u001b[0;34m'fname need to be string'\u001b[0m\u001b[0;34m)\u001b[0m\u001b[0;34m\u001b[0m\u001b[0m\n\u001b[1;32m   2493\u001b[0m     \u001b[0mhandle\u001b[0m \u001b[0;34m=\u001b[0m \u001b[0mSymbolHandle\u001b[0m\u001b[0;34m(\u001b[0m\u001b[0;34m)\u001b[0m\u001b[0;34m\u001b[0m\u001b[0m\n\u001b[0;32m-> 2494\u001b[0;31m     \u001b[0mcheck_call\u001b[0m\u001b[0;34m(\u001b[0m\u001b[0m_LIB\u001b[0m\u001b[0;34m.\u001b[0m\u001b[0mMXSymbolCreateFromFile\u001b[0m\u001b[0;34m(\u001b[0m\u001b[0mc_str\u001b[0m\u001b[0;34m(\u001b[0m\u001b[0mfname\u001b[0m\u001b[0;34m)\u001b[0m\u001b[0;34m,\u001b[0m \u001b[0mctypes\u001b[0m\u001b[0;34m.\u001b[0m\u001b[0mbyref\u001b[0m\u001b[0;34m(\u001b[0m\u001b[0mhandle\u001b[0m\u001b[0;34m)\u001b[0m\u001b[0;34m)\u001b[0m\u001b[0;34m)\u001b[0m\u001b[0;34m\u001b[0m\u001b[0m\n\u001b[0m\u001b[1;32m   2495\u001b[0m     \u001b[0;32mreturn\u001b[0m \u001b[0mSymbol\u001b[0m\u001b[0;34m(\u001b[0m\u001b[0mhandle\u001b[0m\u001b[0;34m)\u001b[0m\u001b[0;34m\u001b[0m\u001b[0m\n\u001b[1;32m   2496\u001b[0m \u001b[0;34m\u001b[0m\u001b[0m\n",
      "\u001b[0;32m/Users/imperatore/Applications/anaconda/lib/python2.7/site-packages/mxnet/base.pyc\u001b[0m in \u001b[0;36mcheck_call\u001b[0;34m(ret)\u001b[0m\n\u001b[1;32m    144\u001b[0m     \"\"\"\n\u001b[1;32m    145\u001b[0m     \u001b[0;32mif\u001b[0m \u001b[0mret\u001b[0m \u001b[0;34m!=\u001b[0m \u001b[0;36m0\u001b[0m\u001b[0;34m:\u001b[0m\u001b[0;34m\u001b[0m\u001b[0m\n\u001b[0;32m--> 146\u001b[0;31m         \u001b[0;32mraise\u001b[0m \u001b[0mMXNetError\u001b[0m\u001b[0;34m(\u001b[0m\u001b[0mpy_str\u001b[0m\u001b[0;34m(\u001b[0m\u001b[0m_LIB\u001b[0m\u001b[0;34m.\u001b[0m\u001b[0mMXGetLastError\u001b[0m\u001b[0;34m(\u001b[0m\u001b[0;34m)\u001b[0m\u001b[0;34m)\u001b[0m\u001b[0;34m)\u001b[0m\u001b[0;34m\u001b[0m\u001b[0m\n\u001b[0m\u001b[1;32m    147\u001b[0m \u001b[0;34m\u001b[0m\u001b[0m\n\u001b[1;32m    148\u001b[0m \u001b[0;34m\u001b[0m\u001b[0m\n",
      "\u001b[0;31mMXNetError\u001b[0m: [16:49:33] src/io/local_filesys.cc:166: Check failed: allow_null  LocalFileSystem: fail to open \"model/net1-symbol.json\"\n\nStack trace returned 7 entries:\n[bt] (0) 0   libmxnet.so                         0x00000001161d6598 _ZN4dmlc15LogMessageFatalD2Ev + 40\n[bt] (1) 1   libmxnet.so                         0x00000001161d4299 _ZN4dmlc15LogMessageFatalD1Ev + 9\n[bt] (2) 2   libmxnet.so                         0x00000001174f2f28 _ZN4dmlc2io15LocalFileSystem4OpenERKNS0_3URIEPKcb + 648\n[bt] (3) 3   libmxnet.so                         0x00000001174ec7c4 _ZN4dmlc6Stream6CreateEPKcS2_b + 68\n[bt] (4) 4   libmxnet.so                         0x00000001170ea2f4 MXSymbolCreateFromFile + 84\n[bt] (5) 5   _ctypes.so                          0x000000010ecf7f57 ffi_call_unix64 + 79\n[bt] (6) 6   ???                                 0x00007ffee1a47bc0 0x0 + 140732684073920\n"
     ]
    }
   ],
   "source": [
    "network = get_net()\n",
    "\n",
    "################################################################################\n",
    "# TODO: this is similar as solver                                              #\n",
    "################################################################################\n",
    "############################ set hyperparameters ###############################\n",
    "batch_size = 128\n",
    "weight_decay =  1e-3\n",
    "num_epoch = 20\n",
    "learning_rate = 1e-4\n",
    "devs=mx.gpu(0)     # set device id\n",
    "\n",
    "################################  path #########################################\n",
    "data_dir = 'cifar10/'\n",
    "chk_dir = 'model/'\n",
    "chk_prefix = chk_dir +'net1'\n",
    "load_model = True   ## set true if you want to load a pretrained model and finetune with lower learning rate\n",
    "\n",
    "if not os.path.isdir(chk_dir):\n",
    "     os.system(\"mkdir \" + chk_dir)\n",
    "\n",
    "reload(logging)\n",
    "head = '%(asctime)-15s %(message)s'\n",
    "logging.basicConfig(level=logging.DEBUG, format=head)\n",
    "\n",
    "eval_metrics = ['accuracy']\n",
    "\n",
    "## TopKAccuracy only allows top_k > 1\n",
    "#eval_metrics.append(mx.metric.create('top_k_accuracy', top_k = 5))\n",
    "\n",
    "if load_model:\n",
    "    model_prefix = 'model/net1'\n",
    "    model_iter = 20  # which model to load\n",
    "\n",
    "    _, arg_params,__ = mx.model.load_checkpoint(model_prefix, model_iter)\n",
    "else:\n",
    "    arg_params = None\n",
    "    model_iter = 0\n",
    "\n",
    "model=mx.model.FeedForward(\n",
    "       ctx      = devs,\n",
    "       symbol   = network,\n",
    "       arg_params = arg_params,\n",
    "       begin_epoch = model_iter,\n",
    "       num_epoch  = num_epoch,\n",
    "       learning_rate = learning_rate,\n",
    "       momentum      = 0.9,\n",
    "       wd            = weight_decay,\n",
    "      initializer   = mx.init.Xavier(factor_type='in', magnitude=2.34)    ## weight initialization\n",
    "       )\n",
    "\n",
    "train_ite, val_ite = get_iterator()\n",
    "model.fit(\n",
    "        X          = train_ite,\n",
    "        eval_data  = val_ite,\n",
    "        eval_metric = eval_metrics,\n",
    "        batch_end_callback = mx.callback.Speedometer(batch_size, 50), \n",
    "        epoch_end_callback=mx.callback.do_checkpoint(chk_prefix, 10)   ## save your model after each 10 epochs\n",
    "        )"
   ]
  },
  {
   "cell_type": "code",
   "execution_count": null,
   "metadata": {
    "collapsed": true
   },
   "outputs": [],
   "source": []
  }
 ],
 "metadata": {
  "kernelspec": {
   "display_name": "Python 2",
   "language": "python",
   "name": "python2"
  },
  "language_info": {
   "codemirror_mode": {
    "name": "ipython",
    "version": 2
   },
   "file_extension": ".py",
   "mimetype": "text/x-python",
   "name": "python",
   "nbconvert_exporter": "python",
   "pygments_lexer": "ipython2",
   "version": "2.7.13"
  }
 },
 "nbformat": 4,
 "nbformat_minor": 2
}
