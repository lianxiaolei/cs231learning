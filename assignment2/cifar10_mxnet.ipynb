{
 "cells": [
  {
   "cell_type": "markdown",
   "metadata": {},
   "source": [
    "In this assignment, you should train your own net on cifar10 classification with deep learning framework MXNet.\n",
    "With MXNet, you only need to define the nets with symbol connection, then set hyperparameters to train the network. You can also save your model and load pretrained model to finetune the network. Make sure using GPU mode. You should achieve at least 80% on the validation set."
   ]
  },
  {
   "cell_type": "code",
   "execution_count": 2,
   "metadata": {
    "collapsed": true
   },
   "outputs": [],
   "source": [
    "import sys\n",
    "import os\n",
    "import numpy as np\n",
    "import mxnet as mx\n",
    "import logging\n",
    "\n",
    "# download data if necessary\n",
    "def _download(data_dir):\n",
    "    if not os.path.isdir(data_dir):\n",
    "        os.system(\"mkdir \" + data_dir)\n",
    "    os.chdir(data_dir)\n",
    "    if (not os.path.exists('train.rec')) or \\\n",
    "       (not os.path.exists('test.rec')) :\n",
    "        os.system(\"wget http://data.dmlc.ml/mxnet/data/cifar10.zip\")\n",
    "        os.system(\"unzip -u cifar10.zip\")\n",
    "        os.system(\"mv cifar/* .; rm -rf cifar; rm cifar10.zip\")\n",
    "    os.chdir(\"..\")\n",
    "\n",
    "\n",
    "# data\n",
    "def get_iterator(data_shape=(3, 28, 28)):\n",
    "    if '://' not in data_dir:\n",
    "        _download(data_dir)\n",
    "\n",
    "    train = mx.io.ImageRecordIter(\n",
    "        path_imgrec = os.path.join(data_dir, \"train.rec\"),\n",
    "        mean_img    = os.path.join(data_dir, \"mean.bin\"),\n",
    "        data_shape  = data_shape,\n",
    "        batch_size  = batch_size,\n",
    "        rand_crop   = True,\n",
    "        rand_mirror = True)\n",
    "\n",
    "    val = mx.io.ImageRecordIter(\n",
    "        path_imgrec = os.path.join(data_dir, \"test.rec\"),\n",
    "        mean_img    = os.path.join(data_dir, \"mean.bin\"),\n",
    "        rand_crop   = False,\n",
    "        rand_mirror = False,\n",
    "        data_shape  = data_shape,\n",
    "        batch_size  = batch_size)\n",
    "\n",
    "    return (train, val)"
   ]
  },
  {
   "cell_type": "code",
   "execution_count": 8,
   "metadata": {
    "collapsed": true
   },
   "outputs": [],
   "source": [
    "def get_net(num_classes=10):\n",
    "    #####################################################################################\n",
    "    # TODO: define your net                                                             #\n",
    "    # Define symbols that using convolution and max pooling to extract better features  #\n",
    "    # from input image.                                                                 #\n",
    "    #####################################################################################\n",
    "    softmax = None\n",
    "    #####################################################################################\n",
    "    #                              END OF YOUR CODE                                     #\n",
    "    #####################################################################################\n",
    "    return softmax"
   ]
  },
  {
   "cell_type": "code",
   "execution_count": 9,
   "metadata": {
    "collapsed": false
   },
   "outputs": [],
   "source": [
    "network = get_net()\n",
    "\n",
    "################################################################################\n",
    "# TODO: this is similar as solver                                              #\n",
    "################################################################################\n",
    "\n",
    "############################ set hyperparameters ###############################\n",
    "\n",
    "\n",
    "################################  path #########################################\n",
    "\n",
    "################################################################################\n",
    "#                              END OF YOUR CODE                                #\n",
    "################################################################################"
   ]
  },
  {
   "cell_type": "code",
   "execution_count": null,
   "metadata": {
    "collapsed": true
   },
   "outputs": [],
   "source": []
  }
 ],
 "metadata": {
  "kernelspec": {
   "display_name": "Python 2",
   "language": "python",
   "name": "python2"
  },
  "language_info": {
   "codemirror_mode": {
    "name": "ipython",
    "version": 2
   },
   "file_extension": ".py",
   "mimetype": "text/x-python",
   "name": "python",
   "nbconvert_exporter": "python",
   "pygments_lexer": "ipython2",
   "version": "2.7.13"
  }
 },
 "nbformat": 4,
 "nbformat_minor": 2
}
