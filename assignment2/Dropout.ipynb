{
 "cells": [
  {
   "cell_type": "markdown",
   "metadata": {},
   "source": [
    "# Dropout\n",
    "Dropout [1] is a technique for regularizing neural networks by randomly setting some features to zero during the forward pass. In this exercise you will implement a dropout layer and modify your fully-connected network to optionally use dropout.\n",
    "\n",
    "[1] Geoffrey E. Hinton et al, \"Improving neural networks by preventing co-adaptation of feature detectors\", arXiv 2012"
   ]
  },
  {
   "cell_type": "code",
   "execution_count": 1,
   "metadata": {
    "collapsed": false
   },
   "outputs": [
    {
     "name": "stdout",
     "output_type": "stream",
     "text": [
      "run the following from the cs231n directory and try again:\n",
      "python setup.py build_ext --inplace\n",
      "You may also need to restart your iPython kernel\n"
     ]
    }
   ],
   "source": [
    "# As usual, a bit of setup\n",
    "\n",
    "import time\n",
    "import numpy as np\n",
    "import matplotlib.pyplot as plt\n",
    "from cs231n.classifiers.fc_net import *\n",
    "from cs231n.data_utils import get_CIFAR10_data\n",
    "from cs231n.gradient_check import eval_numerical_gradient, eval_numerical_gradient_array\n",
    "from cs231n.solver import Solver\n",
    "\n",
    "%matplotlib inline\n",
    "plt.rcParams['figure.figsize'] = (10.0, 8.0) # set default size of plots\n",
    "plt.rcParams['image.interpolation'] = 'nearest'\n",
    "plt.rcParams['image.cmap'] = 'gray'\n",
    "\n",
    "# for auto-reloading external modules\n",
    "# see http://stackoverflow.com/questions/1907993/autoreload-of-modules-in-ipython\n",
    "%load_ext autoreload\n",
    "%autoreload 2\n",
    "\n",
    "def rel_error(x, y):\n",
    "    \"\"\" returns relative error \"\"\"\n",
    "    return np.max(np.abs(x - y) / (np.maximum(1e-8, np.abs(x) + np.abs(y))))"
   ]
  },
  {
   "cell_type": "code",
   "execution_count": 2,
   "metadata": {
    "collapsed": false
   },
   "outputs": [
    {
     "name": "stdout",
     "output_type": "stream",
     "text": [
      "X_val:  (1000, 3, 32, 32)\n",
      "X_train:  (49000, 3, 32, 32)\n",
      "X_test:  (1000, 3, 32, 32)\n",
      "y_val:  (1000,)\n",
      "y_train:  (49000,)\n",
      "y_test:  (1000,)\n"
     ]
    }
   ],
   "source": [
    "# Load the (preprocessed) CIFAR10 data.\n",
    "\n",
    "data = get_CIFAR10_data()\n",
    "for k, v in data.iteritems():\n",
    "    print '%s: ' % k, v.shape"
   ]
  },
  {
   "cell_type": "code",
   "execution_count": 3,
   "metadata": {
    "collapsed": false
   },
   "outputs": [
    {
     "name": "stdout",
     "output_type": "stream",
     "text": [
      "Running tests with p =  0.3\n",
      "Mean of input:  10.0005950952\n",
      "Mean of train-time output:  5.469923113\n",
      "Mean of test-time output:  10.0005950952\n",
      "Fraction of train-time output set to zero:  0.617216\n",
      "Fraction of test-time output set to zero:  0.0\n",
      "\n",
      "Running tests with p =  0.6\n",
      "Mean of input:  10.0005950952\n",
      "Mean of train-time output:  6.89774428777\n",
      "Mean of test-time output:  10.0005950952\n",
      "Fraction of train-time output set to zero:  0.724196\n",
      "Fraction of test-time output set to zero:  0.0\n",
      "\n",
      "Running tests with p =  0.75\n",
      "Mean of input:  10.0005950952\n",
      "Mean of train-time output:  9.08835864027\n",
      "Mean of test-time output:  10.0005950952\n",
      "Fraction of train-time output set to zero:  0.772864\n",
      "Fraction of test-time output set to zero:  0.0\n",
      "\n"
     ]
    }
   ],
   "source": [
    "x = np.random.randn(500, 500) + 10\n",
    "\n",
    "for p in [0.3, 0.6, 0.75]:\n",
    "    out, _ = dropout_forward(x, {'mode': 'train', 'p': p})\n",
    "    out_test, _ = dropout_forward(x, {'mode': 'test', 'p': p})\n",
    "\n",
    "    print 'Running tests with p = ', p\n",
    "    print 'Mean of input: ', x.mean()\n",
    "    print 'Mean of train-time output: ', out.mean()\n",
    "    print 'Mean of test-time output: ', out_test.mean()\n",
    "    print 'Fraction of train-time output set to zero: ', (out == 0).mean()\n",
    "    print 'Fraction of test-time output set to zero: ', (out_test == 0).mean()\n",
    "    print"
   ]
  },
  {
   "cell_type": "code",
   "execution_count": 4,
   "metadata": {
    "collapsed": false
   },
   "outputs": [
    {
     "name": "stdout",
     "output_type": "stream",
     "text": [
      "dx relative error:  1.89290739425e-11\n"
     ]
    }
   ],
   "source": [
    "x = np.random.randn(10, 10) + 10\n",
    "dout = np.random.randn(*x.shape)\n",
    "\n",
    "dropout_param = {'mode': 'train', 'p': 0.8, 'seed': 123}\n",
    "out, cache = dropout_forward(x, dropout_param)\n",
    "dx = dropout_backward(dout, cache)\n",
    "dx_num = eval_numerical_gradient_array(lambda xx: dropout_forward(xx, dropout_param)[0], x, dout)\n",
    "\n",
    "print 'dx relative error: ', rel_error(dx, dx_num)"
   ]
  },
  {
   "cell_type": "markdown",
   "metadata": {},
   "source": [
    "# Regularization experiment\n",
    "As an experiment, we will train a pair of two-layer networks on 500 training examples: one will use no dropout, and one will use a dropout probability of 0.75. We will then visualize the training and validation accuracies of the two networks over time."
   ]
  },
  {
   "cell_type": "code",
   "execution_count": 5,
   "metadata": {
    "collapsed": false
   },
   "outputs": [
    {
     "name": "stdout",
     "output_type": "stream",
     "text": [
      "0\n",
      "(Iteration 1 / 125) loss: 8.819272\n",
      "(Epoch 0 / 25) train acc: 0.166000; val_acc: 0.145000\n"
     ]
    },
    {
     "name": "stderr",
     "output_type": "stream",
     "text": [
      "cs231n/layers.py:560: RuntimeWarning: divide by zero encountered in log\n",
      "  loss = -np.sum(np.log(probs[np.arange(N), y])) / N\n"
     ]
    },
    {
     "name": "stdout",
     "output_type": "stream",
     "text": [
      "(Epoch 1 / 25) train acc: 0.384000; val_acc: 0.225000\n",
      "(Epoch 2 / 25) train acc: 0.480000; val_acc: 0.229000\n",
      "(Epoch 3 / 25) train acc: 0.582000; val_acc: 0.243000\n",
      "(Epoch 4 / 25) train acc: 0.674000; val_acc: 0.269000\n",
      "(Epoch 5 / 25) train acc: 0.676000; val_acc: 0.256000\n",
      "(Epoch 6 / 25) train acc: 0.804000; val_acc: 0.294000\n",
      "(Epoch 7 / 25) train acc: 0.854000; val_acc: 0.254000\n",
      "(Epoch 8 / 25) train acc: 0.854000; val_acc: 0.249000\n",
      "(Epoch 9 / 25) train acc: 0.926000; val_acc: 0.252000\n",
      "(Epoch 10 / 25) train acc: 0.950000; val_acc: 0.267000\n",
      "(Epoch 11 / 25) train acc: 0.966000; val_acc: 0.271000\n",
      "(Epoch 12 / 25) train acc: 0.972000; val_acc: 0.267000\n",
      "(Epoch 13 / 25) train acc: 0.978000; val_acc: 0.276000\n",
      "(Epoch 14 / 25) train acc: 0.988000; val_acc: 0.286000\n",
      "(Epoch 15 / 25) train acc: 0.988000; val_acc: 0.304000\n",
      "(Epoch 16 / 25) train acc: 0.974000; val_acc: 0.301000\n",
      "(Epoch 17 / 25) train acc: 0.992000; val_acc: 0.296000\n",
      "(Epoch 18 / 25) train acc: 0.992000; val_acc: 0.287000\n",
      "(Epoch 19 / 25) train acc: 0.990000; val_acc: 0.284000\n",
      "(Epoch 20 / 25) train acc: 0.998000; val_acc: 0.284000\n",
      "(Iteration 101 / 125) loss: 0.038349\n",
      "(Epoch 21 / 25) train acc: 1.000000; val_acc: 0.292000\n",
      "(Epoch 22 / 25) train acc: 1.000000; val_acc: 0.299000\n",
      "(Epoch 23 / 25) train acc: 1.000000; val_acc: 0.302000\n",
      "(Epoch 24 / 25) train acc: 1.000000; val_acc: 0.303000\n",
      "(Epoch 25 / 25) train acc: 1.000000; val_acc: 0.299000\n",
      "0.25\n",
      "(Iteration 1 / 125) loss: 7.576968\n",
      "(Epoch 0 / 25) train acc: 0.212000; val_acc: 0.198000\n",
      "(Epoch 1 / 25) train acc: 0.380000; val_acc: 0.242000\n",
      "(Epoch 2 / 25) train acc: 0.496000; val_acc: 0.283000\n",
      "(Epoch 3 / 25) train acc: 0.588000; val_acc: 0.304000\n",
      "(Epoch 4 / 25) train acc: 0.640000; val_acc: 0.300000\n",
      "(Epoch 5 / 25) train acc: 0.636000; val_acc: 0.289000\n",
      "(Epoch 6 / 25) train acc: 0.694000; val_acc: 0.264000\n",
      "(Epoch 7 / 25) train acc: 0.744000; val_acc: 0.266000\n",
      "(Epoch 8 / 25) train acc: 0.736000; val_acc: 0.294000\n",
      "(Epoch 9 / 25) train acc: 0.784000; val_acc: 0.275000\n",
      "(Epoch 10 / 25) train acc: 0.818000; val_acc: 0.277000\n",
      "(Epoch 11 / 25) train acc: 0.830000; val_acc: 0.292000\n",
      "(Epoch 12 / 25) train acc: 0.846000; val_acc: 0.304000\n",
      "(Epoch 13 / 25) train acc: 0.888000; val_acc: 0.296000\n",
      "(Epoch 14 / 25) train acc: 0.906000; val_acc: 0.291000\n",
      "(Epoch 15 / 25) train acc: 0.910000; val_acc: 0.306000\n",
      "(Epoch 16 / 25) train acc: 0.926000; val_acc: 0.308000\n",
      "(Epoch 17 / 25) train acc: 0.946000; val_acc: 0.310000\n",
      "(Epoch 18 / 25) train acc: 0.920000; val_acc: 0.285000\n",
      "(Epoch 19 / 25) train acc: 0.944000; val_acc: 0.328000\n",
      "(Epoch 20 / 25) train acc: 0.956000; val_acc: 0.307000\n",
      "(Iteration 101 / 125) loss: 0.981053\n",
      "(Epoch 21 / 25) train acc: 0.946000; val_acc: 0.309000\n",
      "(Epoch 22 / 25) train acc: 0.958000; val_acc: 0.297000\n",
      "(Epoch 23 / 25) train acc: 0.972000; val_acc: 0.321000\n",
      "(Epoch 24 / 25) train acc: 0.954000; val_acc: 0.317000\n",
      "(Epoch 25 / 25) train acc: 0.956000; val_acc: 0.299000\n",
      "0.5\n",
      "(Iteration 1 / 125) loss: 9.854630\n",
      "(Epoch 0 / 25) train acc: 0.206000; val_acc: 0.171000\n",
      "(Epoch 1 / 25) train acc: 0.386000; val_acc: 0.231000\n",
      "(Epoch 2 / 25) train acc: 0.420000; val_acc: 0.262000\n",
      "(Epoch 3 / 25) train acc: 0.528000; val_acc: 0.283000\n",
      "(Epoch 4 / 25) train acc: 0.640000; val_acc: 0.306000\n",
      "(Epoch 5 / 25) train acc: 0.628000; val_acc: 0.299000\n",
      "(Epoch 6 / 25) train acc: 0.688000; val_acc: 0.324000\n",
      "(Epoch 7 / 25) train acc: 0.700000; val_acc: 0.307000\n",
      "(Epoch 8 / 25) train acc: 0.734000; val_acc: 0.313000\n",
      "(Epoch 9 / 25) train acc: 0.810000; val_acc: 0.318000\n",
      "(Epoch 10 / 25) train acc: 0.796000; val_acc: 0.305000\n",
      "(Epoch 11 / 25) train acc: 0.834000; val_acc: 0.296000\n",
      "(Epoch 12 / 25) train acc: 0.846000; val_acc: 0.303000\n",
      "(Epoch 13 / 25) train acc: 0.852000; val_acc: 0.303000\n",
      "(Epoch 14 / 25) train acc: 0.844000; val_acc: 0.308000\n",
      "(Epoch 15 / 25) train acc: 0.874000; val_acc: 0.310000\n",
      "(Epoch 16 / 25) train acc: 0.876000; val_acc: 0.302000\n",
      "(Epoch 17 / 25) train acc: 0.894000; val_acc: 0.286000\n",
      "(Epoch 18 / 25) train acc: 0.926000; val_acc: 0.295000\n",
      "(Epoch 19 / 25) train acc: 0.936000; val_acc: 0.318000\n",
      "(Epoch 20 / 25) train acc: 0.936000; val_acc: 0.307000\n",
      "(Iteration 101 / 125) loss: 3.410401\n",
      "(Epoch 21 / 25) train acc: 0.910000; val_acc: 0.318000\n",
      "(Epoch 22 / 25) train acc: 0.948000; val_acc: 0.305000\n",
      "(Epoch 23 / 25) train acc: 0.954000; val_acc: 0.300000\n",
      "(Epoch 24 / 25) train acc: 0.912000; val_acc: 0.311000\n",
      "(Epoch 25 / 25) train acc: 0.928000; val_acc: 0.321000\n",
      "0.75\n",
      "(Iteration 1 / 125) loss: 15.777888\n",
      "(Epoch 0 / 25) train acc: 0.186000; val_acc: 0.138000\n",
      "(Epoch 1 / 25) train acc: 0.384000; val_acc: 0.255000\n",
      "(Epoch 2 / 25) train acc: 0.464000; val_acc: 0.285000\n",
      "(Epoch 3 / 25) train acc: 0.522000; val_acc: 0.293000\n",
      "(Epoch 4 / 25) train acc: 0.572000; val_acc: 0.269000\n",
      "(Epoch 5 / 25) train acc: 0.570000; val_acc: 0.297000\n",
      "(Epoch 6 / 25) train acc: 0.616000; val_acc: 0.297000\n",
      "(Epoch 7 / 25) train acc: 0.652000; val_acc: 0.291000\n",
      "(Epoch 8 / 25) train acc: 0.716000; val_acc: 0.303000\n",
      "(Epoch 9 / 25) train acc: 0.750000; val_acc: 0.296000\n",
      "(Epoch 10 / 25) train acc: 0.762000; val_acc: 0.328000\n",
      "(Epoch 11 / 25) train acc: 0.760000; val_acc: 0.315000\n",
      "(Epoch 12 / 25) train acc: 0.778000; val_acc: 0.314000\n",
      "(Epoch 13 / 25) train acc: 0.798000; val_acc: 0.319000\n",
      "(Epoch 14 / 25) train acc: 0.810000; val_acc: 0.325000\n",
      "(Epoch 15 / 25) train acc: 0.818000; val_acc: 0.320000\n",
      "(Epoch 16 / 25) train acc: 0.838000; val_acc: 0.313000\n",
      "(Epoch 17 / 25) train acc: 0.858000; val_acc: 0.336000\n",
      "(Epoch 18 / 25) train acc: 0.870000; val_acc: 0.314000\n",
      "(Epoch 19 / 25) train acc: 0.876000; val_acc: 0.319000\n",
      "(Epoch 20 / 25) train acc: 0.880000; val_acc: 0.305000\n",
      "(Iteration 101 / 125) loss: 6.697603\n",
      "(Epoch 21 / 25) train acc: 0.882000; val_acc: 0.286000\n",
      "(Epoch 22 / 25) train acc: 0.898000; val_acc: 0.294000\n",
      "(Epoch 23 / 25) train acc: 0.886000; val_acc: 0.307000\n",
      "(Epoch 24 / 25) train acc: 0.910000; val_acc: 0.324000\n",
      "(Epoch 25 / 25) train acc: 0.882000; val_acc: 0.316000\n",
      "0.8\n",
      "(Iteration 1 / 125) loss: 17.460663\n",
      "(Epoch 0 / 25) train acc: 0.230000; val_acc: 0.187000\n",
      "(Epoch 1 / 25) train acc: 0.334000; val_acc: 0.251000\n",
      "(Epoch 2 / 25) train acc: 0.442000; val_acc: 0.263000\n",
      "(Epoch 3 / 25) train acc: 0.486000; val_acc: 0.278000\n",
      "(Epoch 4 / 25) train acc: 0.510000; val_acc: 0.273000\n",
      "(Epoch 5 / 25) train acc: 0.562000; val_acc: 0.300000\n",
      "(Epoch 6 / 25) train acc: 0.600000; val_acc: 0.272000\n",
      "(Epoch 7 / 25) train acc: 0.654000; val_acc: 0.304000\n",
      "(Epoch 8 / 25) train acc: 0.654000; val_acc: 0.288000\n",
      "(Epoch 9 / 25) train acc: 0.694000; val_acc: 0.298000\n",
      "(Epoch 10 / 25) train acc: 0.736000; val_acc: 0.290000\n",
      "(Epoch 11 / 25) train acc: 0.776000; val_acc: 0.308000\n",
      "(Epoch 12 / 25) train acc: 0.776000; val_acc: 0.316000\n",
      "(Epoch 13 / 25) train acc: 0.768000; val_acc: 0.301000\n",
      "(Epoch 14 / 25) train acc: 0.774000; val_acc: 0.292000\n",
      "(Epoch 15 / 25) train acc: 0.788000; val_acc: 0.295000\n",
      "(Epoch 16 / 25) train acc: 0.780000; val_acc: 0.310000\n",
      "(Epoch 17 / 25) train acc: 0.830000; val_acc: 0.329000\n",
      "(Epoch 18 / 25) train acc: 0.832000; val_acc: 0.329000\n",
      "(Epoch 19 / 25) train acc: 0.832000; val_acc: 0.332000\n",
      "(Epoch 20 / 25) train acc: 0.848000; val_acc: 0.327000\n",
      "(Iteration 101 / 125) loss: 9.493132\n",
      "(Epoch 21 / 25) train acc: 0.862000; val_acc: 0.311000\n",
      "(Epoch 22 / 25) train acc: 0.876000; val_acc: 0.320000\n",
      "(Epoch 23 / 25) train acc: 0.874000; val_acc: 0.304000\n",
      "(Epoch 24 / 25) train acc: 0.882000; val_acc: 0.326000\n",
      "(Epoch 25 / 25) train acc: 0.910000; val_acc: 0.313000\n",
      "0.9\n",
      "(Iteration 1 / 125) loss: inf\n",
      "(Epoch 0 / 25) train acc: 0.162000; val_acc: 0.195000\n",
      "(Epoch 1 / 25) train acc: 0.328000; val_acc: 0.229000\n",
      "(Epoch 2 / 25) train acc: 0.410000; val_acc: 0.232000\n",
      "(Epoch 3 / 25) train acc: 0.454000; val_acc: 0.268000\n",
      "(Epoch 4 / 25) train acc: 0.500000; val_acc: 0.267000\n",
      "(Epoch 5 / 25) train acc: 0.546000; val_acc: 0.289000\n",
      "(Epoch 6 / 25) train acc: 0.586000; val_acc: 0.308000\n",
      "(Epoch 7 / 25) train acc: 0.628000; val_acc: 0.301000\n",
      "(Epoch 8 / 25) train acc: 0.594000; val_acc: 0.270000\n",
      "(Epoch 9 / 25) train acc: 0.692000; val_acc: 0.290000\n",
      "(Epoch 10 / 25) train acc: 0.632000; val_acc: 0.310000\n",
      "(Epoch 11 / 25) train acc: 0.720000; val_acc: 0.305000\n",
      "(Epoch 12 / 25) train acc: 0.734000; val_acc: 0.322000\n",
      "(Epoch 13 / 25) train acc: 0.734000; val_acc: 0.323000\n",
      "(Epoch 14 / 25) train acc: 0.750000; val_acc: 0.339000\n",
      "(Epoch 15 / 25) train acc: 0.752000; val_acc: 0.329000\n",
      "(Epoch 16 / 25) train acc: 0.806000; val_acc: 0.316000\n",
      "(Epoch 17 / 25) train acc: 0.824000; val_acc: 0.316000\n",
      "(Epoch 18 / 25) train acc: 0.776000; val_acc: 0.314000\n",
      "(Epoch 19 / 25) train acc: 0.818000; val_acc: 0.320000\n",
      "(Epoch 20 / 25) train acc: 0.820000; val_acc: 0.322000\n",
      "(Iteration 101 / 125) loss: 11.908625\n",
      "(Epoch 21 / 25) train acc: 0.834000; val_acc: 0.319000\n",
      "(Epoch 22 / 25) train acc: 0.836000; val_acc: 0.325000\n",
      "(Epoch 23 / 25) train acc: 0.846000; val_acc: 0.316000\n",
      "(Epoch 24 / 25) train acc: 0.860000; val_acc: 0.333000\n",
      "(Epoch 25 / 25) train acc: 0.868000; val_acc: 0.339000\n",
      "0.99\n",
      "(Iteration 1 / 125) loss: inf\n",
      "(Epoch 0 / 25) train acc: 0.208000; val_acc: 0.175000\n",
      "(Epoch 1 / 25) train acc: 0.346000; val_acc: 0.244000\n",
      "(Epoch 2 / 25) train acc: 0.386000; val_acc: 0.260000\n",
      "(Epoch 3 / 25) train acc: 0.484000; val_acc: 0.304000\n",
      "(Epoch 4 / 25) train acc: 0.500000; val_acc: 0.295000\n",
      "(Epoch 5 / 25) train acc: 0.530000; val_acc: 0.290000\n",
      "(Epoch 6 / 25) train acc: 0.564000; val_acc: 0.291000\n",
      "(Epoch 7 / 25) train acc: 0.602000; val_acc: 0.328000\n",
      "(Epoch 8 / 25) train acc: 0.582000; val_acc: 0.328000\n",
      "(Epoch 9 / 25) train acc: 0.616000; val_acc: 0.324000\n",
      "(Epoch 10 / 25) train acc: 0.656000; val_acc: 0.315000\n",
      "(Epoch 11 / 25) train acc: 0.688000; val_acc: 0.319000\n",
      "(Epoch 12 / 25) train acc: 0.692000; val_acc: 0.313000\n",
      "(Epoch 13 / 25) train acc: 0.710000; val_acc: 0.318000\n",
      "(Epoch 14 / 25) train acc: 0.748000; val_acc: 0.319000\n",
      "(Epoch 15 / 25) train acc: 0.784000; val_acc: 0.316000\n",
      "(Epoch 16 / 25) train acc: 0.766000; val_acc: 0.319000\n",
      "(Epoch 17 / 25) train acc: 0.758000; val_acc: 0.319000\n",
      "(Epoch 18 / 25) train acc: 0.780000; val_acc: 0.324000\n",
      "(Epoch 19 / 25) train acc: 0.796000; val_acc: 0.335000\n",
      "(Epoch 20 / 25) train acc: 0.798000; val_acc: 0.325000\n",
      "(Iteration 101 / 125) loss: inf\n",
      "(Epoch 21 / 25) train acc: 0.802000; val_acc: 0.318000\n",
      "(Epoch 22 / 25) train acc: 0.806000; val_acc: 0.317000\n",
      "(Epoch 23 / 25) train acc: 0.836000; val_acc: 0.325000\n",
      "(Epoch 24 / 25) train acc: 0.804000; val_acc: 0.305000\n",
      "(Epoch 25 / 25) train acc: 0.810000; val_acc: 0.289000\n"
     ]
    }
   ],
   "source": [
    "# Train two identical nets, one with dropout and one without\n",
    "\n",
    "num_train = 500\n",
    "small_data = {\n",
    "  'X_train': data['X_train'][:num_train],\n",
    "  'y_train': data['y_train'][:num_train],\n",
    "  'X_val': data['X_val'],\n",
    "  'y_val': data['y_val'],\n",
    "}\n",
    "\n",
    "solvers = {}\n",
    "dropout_choices = [0, 0.25, 0.5, 0.75, 0.8, 0.9, 0.99]\n",
    "for dropout in dropout_choices:\n",
    "    model = FullyConnectedNet([500], dropout=dropout)\n",
    "    print dropout\n",
    "\n",
    "    solver = Solver(model, small_data,\n",
    "                  num_epochs=25, batch_size=100,\n",
    "                  update_rule='adam',\n",
    "                  optim_config={\n",
    "                    'learning_rate': 5e-4,\n",
    "                  },\n",
    "                  verbose=True, print_every=100)\n",
    "    solver.train()\n",
    "    solvers[dropout] = solver"
   ]
  },
  {
   "cell_type": "code",
   "execution_count": 6,
   "metadata": {
    "collapsed": false
   },
   "outputs": [
    {
     "data": {
      "image/png": "[encoded data removed]",
      "text/plain": [
       "<matplotlib.figure.Figure at 0x11b1d5550>"
      ]
     },
     "metadata": {},
     "output_type": "display_data"
    }
   ],
   "source": [
    "# Plot train and validation accuracies of the two models\n",
    "\n",
    "train_accs = []\n",
    "val_accs = []\n",
    "for dropout in dropout_choices:\n",
    "    solver = solvers[dropout]\n",
    "    train_accs.append(solver.train_acc_history[-1])\n",
    "    val_accs.append(solver.val_acc_history[-1])\n",
    "\n",
    "plt.subplot(3, 1, 1)\n",
    "for dropout in dropout_choices:\n",
    "    plt.plot(solvers[dropout].train_acc_history, 'o', label='%.2f dropout' % dropout)\n",
    "plt.title('Train accuracy')\n",
    "plt.xlabel('Epoch')\n",
    "plt.ylabel('Accuracy')\n",
    "plt.legend(ncol=2, loc='lower right')\n",
    "  \n",
    "plt.subplot(3, 1, 2)\n",
    "for dropout in dropout_choices:\n",
    "    plt.plot(solvers[dropout].val_acc_history, 'o', label='%.2f dropout' % dropout)\n",
    "plt.title('Val accuracy')\n",
    "plt.xlabel('Epoch')\n",
    "plt.ylabel('Accuracy')\n",
    "plt.legend(ncol=2, loc='lower right')\n",
    "\n",
    "plt.gcf().set_size_inches(15, 15)\n",
    "plt.show()"
   ]
  },
  {
   "cell_type": "markdown",
   "metadata": {},
   "source": [
    "# Question\n",
    "Explain what you see in this experiment. What does it suggest about dropout?\n",
    "\n",
    "# Answer\n",
    "Dropout prevent overfitting. Without dropout, the gap accuracy between training and validation could be 65%. If using dropout, the larger p we use the gap accuracy between training and validation would be smaller. However, since dropout reduces the capacity of neural network if we use a too large p, the network would be to weak to fit to data."
   ]
  },
  {
   "cell_type": "code",
   "execution_count": null,
   "metadata": {
    "collapsed": true
   },
   "outputs": [],
   "source": []
  }
 ],
 "metadata": {
  "kernelspec": {
   "display_name": "Python 2",
   "language": "python",
   "name": "python2"
  },
  "language_info": {
   "codemirror_mode": {
    "name": "ipython",
    "version": 2
   },
   "file_extension": ".py",
   "mimetype": "text/x-python",
   "name": "python",
   "nbconvert_exporter": "python",
   "pygments_lexer": "ipython2",
   "version": "2.7.13"
  }
 },
 "nbformat": 4,
 "nbformat_minor": 2
}
