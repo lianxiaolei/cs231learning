{
 "cells": [
  {
   "cell_type": "code",
   "execution_count": 2,
   "metadata": {},
   "outputs": [
    {
     "name": "stdout",
     "output_type": "stream",
     "text": [
      "The autoreload extension is already loaded. To reload it, use:\n",
      "  %reload_ext autoreload\n"
     ]
    }
   ],
   "source": [
    "# A bit of setup\n",
    "\n",
    "import numpy as np\n",
    "import matplotlib.pyplot as plt\n",
    "\n",
    "from cs231n.classifiers.neural_net import TwoLayerNet\n",
    "\n",
    "%matplotlib inline\n",
    "plt.rcParams['figure.figsize'] = (10.0, 8.0) # set default size of plots\n",
    "plt.rcParams['image.interpolation'] = 'nearest'\n",
    "plt.rcParams['image.cmap'] = 'gray'\n",
    "\n",
    "# for auto-reloading external modules\n",
    "# see http://stackoverflow.com/questions/1907993/autoreload-of-modules-in-ipython\n",
    "%load_ext autoreload\n",
    "%autoreload 2"
   ]
  },
  {
   "cell_type": "code",
   "execution_count": 15,
<<<<<<< HEAD
   "metadata": {
    "collapsed": true
   },
   "outputs": [],
   "source": [
    "def rel_error(x, y):\n",
    "    \"\"\" returns relative error \"\"\"\n",
    "    return np.max(np.abs(x - y) / (np.maximum(1e-8, np.abs(x) + np.abs(y))))"
   ]
  },
  {
   "cell_type": "code",
   "execution_count": 3,
=======
>>>>>>> b91370d9cd215d9f7a0e35cf6782d64fa7e8045c
   "metadata": {
    "collapsed": true
   },
   "outputs": [],
   "source": [
    "def rel_error(x, y):\n",
    "    \"\"\" returns relative error \"\"\"\n",
    "    return np.max(np.abs(x - y) / (np.maximum(1e-8, np.abs(x) + np.abs(y))))"
   ]
  },
  {
   "cell_type": "code",
   "execution_count": 3,
   "metadata": {},
   "outputs": [
    {
     "name": "stdout",
     "output_type": "stream",
     "text": [
      "The autoreload extension is already loaded. To reload it, use:\n",
      "  %reload_ext autoreload\n"
     ]
    }
   ],
   "source": [
    "# A bit of setup\n",
    "\n",
    "import numpy as np\n",
    "import matplotlib.pyplot as plt\n",
    "\n",
    "from cs231n.classifiers.neural_net import TwoLayerNet\n",
    "\n",
    "%matplotlib inline\n",
    "plt.rcParams['figure.figsize'] = (10.0, 8.0) # set default size of plots\n",
    "plt.rcParams['image.interpolation'] = 'nearest'\n",
    "plt.rcParams['image.cmap'] = 'gray'\n",
    "\n",
    "# for auto-reloading external modules\n",
    "# see http://stackoverflow.com/questions/1907993/autoreload-of-modules-in-ipython\n",
    "%load_ext autoreload\n",
    "%autoreload 2"
   ]
  },
  {
   "cell_type": "code",
   "execution_count": 4,
   "metadata": {
    "collapsed": true
   },
   "outputs": [],
   "source": [
    "input_size = 4\n",
    "hidden_size = 10\n",
    "num_classes = 3\n",
    "num_inputs = 5\n",
    "\n",
    "def init_toy_model():\n",
    "    np.random.seed(0)\n",
    "    return TwoLayerNet(input_size, hidden_size, num_classes, std=1e-1)\n",
    "\n",
    "def init_toy_data():\n",
    "    np.random.seed(1)\n",
    "    X = 10 * np.random.randn(num_inputs, input_size)\n",
    "    y = np.array([0, 1, 2, 2, 1])\n",
    "    return X, y\n",
    "\n",
    "net = init_toy_model()\n",
    "X, y = init_toy_data()"
   ]
  },
  {
   "cell_type": "markdown",
   "metadata": {},
   "source": [
    "# Forward pass: compute scores\n",
    "Open the file `cs231n/classifiers/neural_net.py` and look at the method `TwoLayerNet.loss`. This function is very similar to the loss functions you have written for the SVM and Softmax exercises: It takes the data and weights and computes the class scores, the loss, and the gradients on the parameters. \n",
    "\n",
    "Implement the first part of the forward pass which uses the weights and biases to compute the scores for all inputs."
   ]
  },
  {
   "cell_type": "code",
   "execution_count": 7,
   "metadata": {},
   "outputs": [
    {
     "name": "stdout",
     "output_type": "stream",
     "text": [
      "Your scores:\n",
      "[[-0.81233741 -1.27654624 -0.70335995]\n",
      " [-0.17129677 -1.18803311 -0.47310444]\n",
      " [-0.51590475 -1.01354314 -0.8504215 ]\n",
      " [-0.15419291 -0.48629638 -0.52901952]\n",
      " [-0.00618733 -0.12435261 -0.15226949]]\n",
      "\n",
      "[[-0.81233741 -1.27654624 -0.70335995]\n",
      " [-0.17129677 -1.18803311 -0.47310444]\n",
      " [-0.51590475 -1.01354314 -0.8504215 ]\n",
      " [-0.15419291 -0.48629638 -0.52901952]\n",
      " [-0.00618733 -0.12435261 -0.15226949]]\n",
      "\n",
      "Difference between your scores and correct scores:\n",
      "3.68027207103e-08\n"
     ]
    }
   ],
   "source": [
    "scores = net.loss(X)\n",
    "print 'Your scores:'\n",
    "print scores\n",
    "print\n",
    "correct_scores = np.asarray([\n",
    "  [-0.81233741, -1.27654624, -0.70335995],\n",
    "  [-0.17129677, -1.18803311, -0.47310444],\n",
    "  [-0.51590475, -1.01354314, -0.8504215 ],\n",
    "  [-0.15419291, -0.48629638, -0.52901952],\n",
    "  [-0.00618733, -0.12435261, -0.15226949]])\n",
    "print correct_scores\n",
    "print\n",
    "\n",
    "# The difference should be very small. We get < 1e-7\n",
    "print 'Difference between your scores and correct scores:'\n",
    "print np.sum(np.abs(scores - correct_scores))"
   ]
  },
  {
   "cell_type": "markdown",
   "metadata": {},
   "source": [
    "# Forward pass: compute loss\n",
    "In the same function, implement the second part that computes the data and regularizaion loss."
   ]
  },
  {
   "cell_type": "code",
   "execution_count": 9,
   "metadata": {},
   "outputs": [
    {
     "name": "stdout",
     "output_type": "stream",
     "text": [
      "Difference between your loss and correct loss:\n",
      "1.79856129989e-13\n"
     ]
    }
   ],
   "source": [
    "loss, _ = net.loss(X, y, reg=0.1)\n",
    "correct_loss = 1.30378789133\n",
    "\n",
    "# should be very small, we get < 1e-12\n",
    "print 'Difference between your loss and correct loss:'\n",
    "print np.sum(np.abs(loss - correct_loss))"
   ]
  },
  {
   "cell_type": "code",
   "execution_count": 16,
<<<<<<< HEAD
   "metadata": {
    "collapsed": false
   },
=======
   "metadata": {},
>>>>>>> b91370d9cd215d9f7a0e35cf6782d64fa7e8045c
   "outputs": [
    {
     "name": "stdout",
     "output_type": "stream",
     "text": [
      "W1 max relative error: 3.561318e-09\n",
      "W2 max relative error: 3.440708e-09\n",
      "b2 max relative error: 4.447625e-11\n",
      "b1 max relative error: 2.738421e-09\n"
     ]
    }
   ],
   "source": [
    "from cs231n.gradient_check import eval_numerical_gradient\n",
    "\n",
    "# Use numeric gradient checking to check your implementation of the backward pass.\n",
    "# If your implementation is correct, the difference between the numeric and\n",
    "# analytic gradients should be less than 1e-8 for each of W1, W2, b1, and b2.\n",
    "loss, grads = net.loss(X, y, reg=1e-1)\n",
    "for param_name in grads:\n",
    "    f = lambda w: net.loss(X, y, reg=1e-1)[0]\n",
    "    param_grad_num = eval_numerical_gradient(f, net.params[param_name], verbose=False)\n",
    "    print '%s max relative error: %e' % (param_name, rel_error(param_grad_num, grads[param_name]))"
   ]
  },
  {
<<<<<<< HEAD
   "cell_type": "code",
   "execution_count": 24,
   "metadata": {
    "collapsed": false
   },
   "outputs": [],
   "source": [
    "def ff(x,y):\n",
    "    x [2] = 4\n",
    "    x = x + [5]\n",
    "    y += 1\n",
    "\n",
    "x, y = [1,2,3], 2\n",
    "ff(x, y)\n",
    "print x, y"
=======
   "cell_type": "markdown",
   "metadata": {},
   "source": [
    "# Train the network\n",
    "To train the network we will use stochastic gradient descent (SGD), similar to the SVM and Softmax classifiers. Look at the function `TwoLayerNet.train` and fill in the missing sections to implement the training procedure. This should be very similar to the training procedure you used for the SVM and Softmax classifiers. You will also have to implement `TwoLayerNet.predict`, as the training process periodically performs prediction to keep track of accuracy over time while the network trains.\n",
    "\n",
    "Once you have implemented the method, run the code below to train a two-layer network on toy data. You should achieve a training loss less than 0.2."
>>>>>>> b91370d9cd215d9f7a0e35cf6782d64fa7e8045c
   ]
  },
  {
   "cell_type": "code",
<<<<<<< HEAD
   "execution_count": null,
   "metadata": {
    "collapsed": true
   },
   "outputs": [],
   "source": []
  },
  {
   "cell_type": "code",
   "execution_count": null,
   "metadata": {
    "collapsed": true
   },
   "outputs": [],
   "source": []
  },
  {
   "cell_type": "code",
   "execution_count": null,
   "metadata": {
    "collapsed": true
   },
   "outputs": [],
   "source": []
  },
  {
   "cell_type": "code",
   "execution_count": null,
   "metadata": {
    "collapsed": true
   },
   "outputs": [],
   "source": []
  },
  {
   "cell_type": "code",
   "execution_count": null,
   "metadata": {
    "collapsed": true
   },
   "outputs": [],
   "source": []
  },
  {
   "cell_type": "code",
   "execution_count": null,
   "metadata": {
    "collapsed": true
   },
   "outputs": [],
   "source": []
  },
  {
   "cell_type": "code",
   "execution_count": null,
   "metadata": {
    "collapsed": true
   },
   "outputs": [],
   "source": []
  },
  {
   "cell_type": "code",
   "execution_count": null,
   "metadata": {
    "collapsed": true
   },
   "outputs": [],
   "source": []
=======
   "execution_count": 8,
   "metadata": {},
   "outputs": [
    {
     "name": "stdout",
     "output_type": "stream",
     "text": [
      "Final training loss:  0.0171496079387\n"
     ]
    },
    {
     "data": {
      "image/png": "iVBORw0KGgoAAAANSUhEUgAAAmQAAAHwCAYAAAAIDnN0AAAABHNCSVQICAgIfAhkiAAAAAlwSFlz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\n/wnqFQAAAABJRU5ErkJggg==\n",
      "text/plain": [
       "<matplotlib.figure.Figure at 0x3ba5048>"
      ]
     },
     "metadata": {},
     "output_type": "display_data"
    }
   ],
   "source": [
    "net = init_toy_model()\n",
    "stats = net.train(X, y, X, y,\n",
    "            learning_rate=1e-1, reg=1e-5,\n",
    "            num_iters=100, verbose=False)\n",
    "\n",
    "print 'Final training loss: ', stats['loss_history'][-1]\n",
    "\n",
    "# plot the loss history\n",
    "plt.plot(stats['loss_history'])\n",
    "plt.xlabel('iteration')\n",
    "plt.ylabel('training loss')\n",
    "plt.title('Training Loss history')\n",
    "plt.show()"
   ]
  },
  {
   "cell_type": "markdown",
   "metadata": {},
   "source": [
    "# Load the data\n",
    "Now that you have implemented a two-layer network that passes gradient checks and works on toy data, it's time to load up our favorite CIFAR-10 data so we can use it to train a classifier on a real dataset."
   ]
  },
  {
   "cell_type": "code",
   "execution_count": 10,
   "metadata": {},
   "outputs": [
    {
     "name": "stdout",
     "output_type": "stream",
     "text": [
      "Train data shape:  (49000L, 3072L)\n",
      "Train labels shape:  (49000L,)\n",
      "Validation data shape:  (1000L, 3072L)\n",
      "Validation labels shape:  (1000L,)\n",
      "Test data shape:  (1000L, 3072L)\n",
      "Test labels shape:  (1000L,)\n"
     ]
    }
   ],
   "source": [
    "from cs231n.data_utils import load_CIFAR10\n",
    "\n",
    "def get_CIFAR10_data(num_training=49000, num_validation=1000, num_test=1000):\n",
    "    \"\"\"\n",
    "    Load the CIFAR-10 dataset from disk and perform preprocessing to prepare\n",
    "    it for the two-layer neural net classifier. These are the same steps as\n",
    "    we used for the SVM, but condensed to a single function.  \n",
    "    \"\"\"\n",
    "    # Load the raw CIFAR-10 data\n",
    "    cifar10_dir = '../data/cifar10'\n",
    "    X_train, y_train, X_test, y_test = load_CIFAR10(cifar10_dir)\n",
    "        \n",
    "    # Subsample the data\n",
    "    mask = range(num_training, num_training + num_validation)\n",
    "    X_val = X_train[mask]\n",
    "    y_val = y_train[mask]\n",
    "    mask = range(num_training)\n",
    "    X_train = X_train[mask]\n",
    "    y_train = y_train[mask]\n",
    "    mask = range(num_test)\n",
    "    X_test = X_test[mask]\n",
    "    y_test = y_test[mask]\n",
    "\n",
    "    # Normalize the data: subtract the mean image\n",
    "    mean_image = np.mean(X_train, axis=0)\n",
    "    X_train -= mean_image\n",
    "    X_val -= mean_image\n",
    "    X_test -= mean_image\n",
    "\n",
    "    # Reshape data to rows\n",
    "    X_train = X_train.reshape(num_training, -1)\n",
    "    X_val = X_val.reshape(num_validation, -1)\n",
    "    X_test = X_test.reshape(num_test, -1)\n",
    "\n",
    "    return X_train, y_train, X_val, y_val, X_test, y_test\n",
    "\n",
    "\n",
    "# Invoke the above function to get our data.\n",
    "X_train, y_train, X_val, y_val, X_test, y_test = get_CIFAR10_data()\n",
    "print 'Train data shape: ', X_train.shape\n",
    "print 'Train labels shape: ', y_train.shape\n",
    "print 'Validation data shape: ', X_val.shape\n",
    "print 'Validation labels shape: ', y_val.shape\n",
    "print 'Test data shape: ', X_test.shape\n",
    "print 'Test labels shape: ', y_test.shape"
   ]
  },
  {
   "cell_type": "markdown",
   "metadata": {},
   "source": [
    "# Train a network\n",
    "To train our network we will use SGD with momentum. In addition, we will adjust the learning rate with an exponential learning rate schedule as optimization proceeds; after each epoch, we will reduce the learning rate by multiplying it by a decay rate."
   ]
  },
  {
   "cell_type": "code",
   "execution_count": 11,
   "metadata": {},
   "outputs": [
    {
     "name": "stdout",
     "output_type": "stream",
     "text": [
      "iteration 0 / 1000: loss 2.302954\n",
      "iteration 100 / 1000: loss 2.302550\n",
      "iteration 200 / 1000: loss 2.297648\n",
      "iteration 300 / 1000: loss 2.259602\n",
      "iteration 400 / 1000: loss 2.204170\n",
      "iteration 500 / 1000: loss 2.118565\n",
      "iteration 600 / 1000: loss 2.051535\n",
      "iteration 700 / 1000: loss 1.988466\n",
      "iteration 800 / 1000: loss 2.006591\n",
      "iteration 900 / 1000: loss 1.951473\n",
      "Validation accuracy:  0.287\n"
     ]
    }
   ],
   "source": [
    "input_size = 32 * 32 * 3\n",
    "hidden_size = 50\n",
    "num_classes = 10  # 即output_size\n",
    "net = TwoLayerNet(input_size, hidden_size, num_classes)\n",
    "\n",
    "# Train the network\n",
    "stats = net.train(X_train, y_train, X_val, y_val,\n",
    "            num_iters=1000, batch_size=200,\n",
    "            learning_rate=1e-4, learning_rate_decay=0.95,\n",
    "            reg=0.5, verbose=True)\n",
    "\n",
    "# Predict on the validation set\n",
    "val_acc = (net.predict(X_val) == y_val).mean()\n",
    "print 'Validation accuracy: ', val_acc"
   ]
  },
  {
   "cell_type": "markdown",
   "metadata": {},
   "source": [
    "# Debug the training\n",
    "With the default parameters we provided above, you should get a validation accuracy of about 0.29 on the validation set. This isn't very good.\n",
    "\n",
    "One strategy for getting insight into what's wrong is to plot the loss function and the accuracies on the training and validation sets during optimization.\n",
    "\n",
    "Another strategy is to visualize the weights that were learned in the first layer of the network. In most neural networks trained on visual data, the first layer weights typically show some visible structure when visualized."
   ]
  },
  {
   "cell_type": "code",
   "execution_count": 12,
   "metadata": {},
   "outputs": [
    {
     "data": {
      "image/png": "iVBORw0KGgoAAAANSUhEUgAAAmsAAAHwCAYAAAD5BSj5AAAABHNCSVQICAgIfAhkiAAAAAlwSFlz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\nmoiIiEgGU7EmIiIiksFUrImIiIhksP8H+az6CkO81O8AAAAASUVORK5CYII=\n",
      "text/plain": [
       "<matplotlib.figure.Figure at 0x7e62470>"
      ]
     },
     "metadata": {},
     "output_type": "display_data"
    }
   ],
   "source": [
    "plt.subplot(2, 1, 1)\n",
    "plt.plot(stats['loss_history'])\n",
    "plt.title('Loss history')\n",
    "plt.xlabel('Iteration')\n",
    "plt.ylabel('Loss')\n",
    "\n",
    "plt.subplot(2, 1, 2)\n",
    "plt.plot(stats['train_acc_history'], label='train')\n",
    "plt.plot(stats['val_acc_history'], label='val')\n",
    "plt.title('Classification accuracy history')\n",
    "plt.xlabel('Epoch')\n",
    "plt.ylabel('Clasification accuracy')\n",
    "plt.show()"
   ]
  },
  {
   "cell_type": "code",
   "execution_count": 14,
   "metadata": {},
   "outputs": [
    {
     "ename": "ImportError",
     "evalue": "No module named vis_utils",
     "output_type": "error",
     "traceback": [
      "\u001b[1;31m---------------------------------------------------------------------------\u001b[0m",
      "\u001b[1;31mImportError\u001b[0m                               Traceback (most recent call last)",
      "\u001b[1;32m<ipython-input-14-b31a8c78de82>\u001b[0m in \u001b[0;36m<module>\u001b[1;34m()\u001b[0m\n\u001b[1;32m----> 1\u001b[1;33m \u001b[1;32mfrom\u001b[0m \u001b[0mcs231n\u001b[0m\u001b[1;33m.\u001b[0m\u001b[0mvis_utils\u001b[0m \u001b[1;32mimport\u001b[0m \u001b[0mvisualize_grid\u001b[0m\u001b[1;33m\u001b[0m\u001b[0m\n\u001b[0m\u001b[0;32m      2\u001b[0m \u001b[1;33m\u001b[0m\u001b[0m\n\u001b[0;32m      3\u001b[0m \u001b[1;31m# Visualize the weights of the network\u001b[0m\u001b[1;33m\u001b[0m\u001b[1;33m\u001b[0m\u001b[0m\n\u001b[0;32m      4\u001b[0m \u001b[1;33m\u001b[0m\u001b[0m\n\u001b[0;32m      5\u001b[0m \u001b[1;32mdef\u001b[0m \u001b[0mshow_net_weights\u001b[0m\u001b[1;33m(\u001b[0m\u001b[0mnet\u001b[0m\u001b[1;33m)\u001b[0m\u001b[1;33m:\u001b[0m\u001b[1;33m\u001b[0m\u001b[0m\n",
      "\u001b[1;31mImportError\u001b[0m: No module named vis_utils"
     ]
    }
   ],
   "source": [
    "from cs231n.vis_utils import visualize_grid\n",
    "\n",
    "# Visualize the weights of the network\n",
    "\n",
    "def show_net_weights(net):\n",
    "  W1 = net.params['W1']\n",
    "  W1 = W1.reshape(32, 32, 3, -1).transpose(3, 0, 1, 2)\n",
    "  plt.imshow(visualize_grid(W1, padding=3).astype('uint8'))\n",
    "  plt.gca().axis('off')\n",
    "  plt.show()\n",
    "\n",
    "show_net_weights(net)"
   ]
>>>>>>> b91370d9cd215d9f7a0e35cf6782d64fa7e8045c
  },
  {
   "cell_type": "code",
   "execution_count": null,
   "metadata": {
    "collapsed": true
   },
   "outputs": [],
   "source": []
  }
 ],
 "metadata": {
  "kernelspec": {
   "display_name": "Python 2",
   "language": "python",
   "name": "python2"
  },
  "language_info": {
   "codemirror_mode": {
    "name": "ipython",
    "version": 2
   },
   "file_extension": ".py",
   "mimetype": "text/x-python",
   "name": "python",
   "nbconvert_exporter": "python",
   "pygments_lexer": "ipython2",
   "version": "2.7.14"
  }
 },
 "nbformat": 4,
 "nbformat_minor": 2
}
